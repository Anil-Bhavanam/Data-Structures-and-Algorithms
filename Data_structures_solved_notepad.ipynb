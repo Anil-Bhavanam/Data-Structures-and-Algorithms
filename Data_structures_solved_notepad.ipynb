{
 "cells": [
  {
   "cell_type": "markdown",
   "id": "5f1f31d5",
   "metadata": {},
   "source": [
    "# fibonacci"
   ]
  },
  {
   "cell_type": "code",
   "execution_count": 21,
   "id": "136968b3",
   "metadata": {},
   "outputs": [],
   "source": [
    "class fibonacci:\n",
    "    def __init__(self):\n",
    "        self.memo={}\n",
    "    def fib(self,n):\n",
    "        if n in [0,1]:\n",
    "            return n\n",
    "        if n in self.memo:\n",
    "            return self.memo[n]\n",
    "        result= self.fib(n-1)+self.fib(n-2)\n",
    "        self.memo[n]=result\n",
    "        return result\n"
   ]
  },
  {
   "cell_type": "code",
   "execution_count": 22,
   "id": "cff6537f",
   "metadata": {},
   "outputs": [],
   "source": [
    "f=fibonacci()"
   ]
  },
  {
   "cell_type": "code",
   "execution_count": 23,
   "id": "ba1ee327",
   "metadata": {},
   "outputs": [
    {
     "data": {
      "text/plain": [
       "5"
      ]
     },
     "execution_count": 23,
     "metadata": {},
     "output_type": "execute_result"
    }
   ],
   "source": [
    "f.fib(5)"
   ]
  },
  {
   "cell_type": "code",
   "execution_count": 59,
   "id": "35bf0957",
   "metadata": {},
   "outputs": [
    {
     "data": {
      "text/plain": [
       "5"
      ]
     },
     "execution_count": 59,
     "metadata": {},
     "output_type": "execute_result"
    }
   ],
   "source": [
    "tab(5)"
   ]
  },
  {
   "cell_type": "markdown",
   "id": "a33d94b6",
   "metadata": {},
   "source": [
    "# Climbing stairs"
   ]
  },
  {
   "cell_type": "code",
   "execution_count": 60,
   "id": "454c541d",
   "metadata": {},
   "outputs": [],
   "source": [
    "memo={}\n",
    "def climb(n):\n",
    "    if n in memo:\n",
    "        return memo[n]\n",
    "    if n==1:\n",
    "        return 1\n",
    "    elif n==0:\n",
    "        return 0\n",
    "    elif n==2:\n",
    "        return 2\n",
    "    \n",
    "    one_step=climb(n-1)\n",
    "    two_step=climb(n-2)\n",
    "    \n",
    "    memo[n]= one_step+two_step\n",
    "    return one_step+two_step\n",
    "    "
   ]
  },
  {
   "cell_type": "code",
   "execution_count": 61,
   "id": "68b1b2b3",
   "metadata": {},
   "outputs": [],
   "source": [
    "a=climb(3)"
   ]
  },
  {
   "cell_type": "code",
   "execution_count": 62,
   "id": "aa3c5719",
   "metadata": {},
   "outputs": [
    {
     "data": {
      "text/plain": [
       "3"
      ]
     },
     "execution_count": 62,
     "metadata": {},
     "output_type": "execute_result"
    }
   ],
   "source": [
    "a"
   ]
  },
  {
   "cell_type": "markdown",
   "id": "ee737e90",
   "metadata": {},
   "source": [
    "# frog jumping"
   ]
  },
  {
   "cell_type": "markdown",
   "id": "a21a8ccd",
   "metadata": {},
   "source": [
    "### memoization "
   ]
  },
  {
   "cell_type": "code",
   "execution_count": 110,
   "id": "6a1da76f",
   "metadata": {},
   "outputs": [],
   "source": [
    "class frog_jump:\n",
    "    def __init__(self):\n",
    "        self.memo={}\n",
    "    \n",
    "    def required_energy(self,n,height):\n",
    "        if n in self.memo:\n",
    "            return self.memo[n]\n",
    "        if n==0:\n",
    "            return 0\n",
    "        \n",
    "        min_energy=float('inf')\n",
    "        #left=self.required_energy(n-1,height)+abs(height[n]-height[n-1])\n",
    "        #right=self.required_energy(n-2,height)+abs(height[n]-height[n-2])\n",
    "        for i in range(1,n+1):\n",
    "            energy=self.required_energy(n-i,height)+abs(height[n]-height[n-i])\n",
    "            min_energy=min(min_energy,energy)\n",
    "        \n",
    "\n",
    "        self.memo[n]=min_energy\n",
    "        return min_energy"
   ]
  },
  {
   "cell_type": "code",
   "execution_count": 111,
   "id": "51c27dec",
   "metadata": {},
   "outputs": [
    {
     "data": {
      "text/plain": [
       "20"
      ]
     },
     "execution_count": 111,
     "metadata": {},
     "output_type": "execute_result"
    }
   ],
   "source": [
    "frog=frog_jump()\n",
    "frog.required_energy(5,[30,10,60,10,60,50])"
   ]
  },
  {
   "cell_type": "markdown",
   "id": "2f80f4cb",
   "metadata": {},
   "source": [
    "### Tabulation"
   ]
  },
  {
   "cell_type": "code",
   "execution_count": 88,
   "id": "9880a523",
   "metadata": {},
   "outputs": [],
   "source": [
    "class frog_jump_tab:\n",
    "    def __init__(self):\n",
    "        self.prev_1=1\n",
    "        self.prev_2=0\n",
    "    \n",
    "    def energy_required(self,n,height):\n",
    "        cur=0        \n",
    "        for i in range(2,len(height)):\n",
    "            cur+=min(abs(height[i]-height[self.prev_1]),abs(height[i]-height[self.prev_2]))\n",
    "            self.prev_2=self.prev_1\n",
    "            self.prev_1=i\n",
    "        return cur"
   ]
  },
  {
   "cell_type": "code",
   "execution_count": 89,
   "id": "4e5a903f",
   "metadata": {},
   "outputs": [
    {
     "data": {
      "text/plain": [
       "40"
      ]
     },
     "execution_count": 89,
     "metadata": {},
     "output_type": "execute_result"
    }
   ],
   "source": [
    "frog_tabu=frog_jump_tab()\n",
    "frog_tabu.energy_required(5,[30,10,60,10,60,50])"
   ]
  },
  {
   "cell_type": "code",
   "execution_count": 103,
   "id": "b9e4d453",
   "metadata": {},
   "outputs": [
    {
     "name": "stdout",
     "output_type": "stream",
     "text": [
      "Minimum energy required: 41\n"
     ]
    }
   ],
   "source": [
    "class FrogJump:\n",
    "    def __init__(self):\n",
    "        self.memo = {}\n",
    "\n",
    "    def required_energy(self, n, height, k):\n",
    "        if n in self.memo:\n",
    "            return self.memo[n]\n",
    "        if n == 0:\n",
    "            return 0\n",
    "        elif n == 1:\n",
    "            return 1\n",
    "\n",
    "        min_energy = float('inf')\n",
    "\n",
    "        for i in range(1, min(k, n)):\n",
    "            energy = self.required_energy(n - i, height, k) + abs(height[n] - height[n - i])\n",
    "            min_energy = min(min_energy, energy)\n",
    "\n",
    "        self.memo[n] = min_energy\n",
    "        return min_energy\n",
    "\n",
    "# Example usage:\n",
    "height = [0, 10, 30, 40, 20, 50]\n",
    "k = 5\n",
    "frog = FrogJump()\n",
    "result = frog.required_energy(len(height) - 1, height, k)\n",
    "print(\"Minimum energy required:\", result)\n"
   ]
  },
  {
   "cell_type": "markdown",
   "id": "8b3b1584",
   "metadata": {},
   "source": [
    "# Find the maximum sum of sub array without adding adjacent"
   ]
  },
  {
   "cell_type": "markdown",
   "id": "5e4b8d5c",
   "metadata": {},
   "source": [
    "### Memoization"
   ]
  },
  {
   "cell_type": "code",
   "execution_count": 118,
   "id": "34d3c4af",
   "metadata": {},
   "outputs": [],
   "source": [
    "class sub_array_max:\n",
    "    def __init__(self):\n",
    "        self.memo={}\n",
    "    def find_max(self,n,arr):\n",
    "        if n==0:\n",
    "            return arr[0]\n",
    "        elif n<0:\n",
    "            return 0\n",
    "        \n",
    "        pick=arr[n]+self.find_max(n-2,arr)\n",
    "        not_pick=0+self.find_max(n-1,arr)\n",
    "        \n",
    "        max_val=max(pick,not_pick)\n",
    "        memo[n]=max_val\n",
    "        return max_val"
   ]
  },
  {
   "cell_type": "code",
   "execution_count": 119,
   "id": "db67bfc6",
   "metadata": {},
   "outputs": [
    {
     "data": {
      "text/plain": [
       "11"
      ]
     },
     "execution_count": 119,
     "metadata": {},
     "output_type": "execute_result"
    }
   ],
   "source": [
    "get_max=sub_array_max()\n",
    "arr=[2,1,4,9]\n",
    "get_max.find_max(len(arr)-1,arr)"
   ]
  },
  {
   "cell_type": "markdown",
   "id": "b4ecdb42",
   "metadata": {},
   "source": [
    "### tabulation with space optimization"
   ]
  },
  {
   "cell_type": "code",
   "execution_count": 125,
   "id": "7ca9d4b4",
   "metadata": {},
   "outputs": [
    {
     "name": "stdout",
     "output_type": "stream",
     "text": [
      "11\n"
     ]
    }
   ],
   "source": [
    "arr=[2,1,4,9]\n",
    "prev_1=arr[0]\n",
    "prev_2=0\n",
    "for i in range(1,len(arr)):\n",
    "    pick=arr[i]\n",
    "    if i>1:\n",
    "        pick+=prev_2\n",
    "    not_pick=0+ prev_1\n",
    "    \n",
    "    cur=max(pick,not_pick)\n",
    "    prev_2=prev_1\n",
    "    prev_1=cur\n",
    "    \n",
    "print(cur)"
   ]
  },
  {
   "cell_type": "markdown",
   "id": "60e613f2",
   "metadata": {},
   "source": [
    "# Maximum sum of sub array if the array is circulat (i.e., it last index and first index is adjacent)"
   ]
  },
  {
   "cell_type": "code",
   "execution_count": 126,
   "id": "f35a2421",
   "metadata": {},
   "outputs": [],
   "source": [
    "class sub_array_sum:\n",
    "    \n",
    "    def helper(self,n,arr):\n",
    "        prev_1=arr[0]\n",
    "        prev_2=0\n",
    "        for i in range(1,len(arr)):\n",
    "            pick=arr[i]\n",
    "            if i>1:\n",
    "                pick+=prev_2\n",
    "            not_pick=0+ prev_1\n",
    "\n",
    "            cur=max(pick,not_pick)\n",
    "            prev_2=prev_1\n",
    "            prev_1=cur\n",
    "        return cur\n",
    "    def get_sum(self,n,arr):\n",
    "        first_index_group=self.helper(n,arr[:-1])\n",
    "        last_index_group=self.helper(n,arr[1:])\n",
    "        return max(first_index_group,last_index_group)\n",
    "    "
   ]
  },
  {
   "cell_type": "code",
   "execution_count": 127,
   "id": "f1ffef26",
   "metadata": {},
   "outputs": [
    {
     "data": {
      "text/plain": [
       "10"
      ]
     },
     "execution_count": 127,
     "metadata": {},
     "output_type": "execute_result"
    }
   ],
   "source": [
    "cal=sub_array_sum()\n",
    "arr=[2,1,4,9]\n",
    "cal.get_sum(3,arr)"
   ]
  },
  {
   "cell_type": "markdown",
   "id": "005780d5",
   "metadata": {},
   "source": [
    "# Finding the maximum sum in the Nx3 matrix and it shouldnt have adjacent tasks in column"
   ]
  },
  {
   "cell_type": "markdown",
   "id": "5d93a38b",
   "metadata": {},
   "source": [
    "### tabulation"
   ]
  },
  {
   "cell_type": "code",
   "execution_count": 148,
   "id": "1a6dbbbc",
   "metadata": {},
   "outputs": [],
   "source": [
    "def max_score(grid):\n",
    "    \n",
    "    for i in range(1,len(grid)):\n",
    "        for j in range(3):\n",
    "            if j==0:\n",
    "                element=max((grid[i][j]+grid[i-1][1]),(grid[i][j]+grid[i-1][2]))\n",
    "                grid[i][j]=element\n",
    "            elif j==1:\n",
    "                element=max((grid[i][j]+grid[i-1][0]),(grid[i][j]+grid[i-1][2]))\n",
    "                grid[i][j]=element\n",
    "            elif j==2:\n",
    "                element=max((grid[i][j]+grid[i-1][1]),(grid[i][j]+grid[i-1][0]))\n",
    "                grid[i][j]=element\n",
    "    return max(grid[-1])"
   ]
  },
  {
   "cell_type": "code",
   "execution_count": 190,
   "id": "144ff8b1",
   "metadata": {},
   "outputs": [
    {
     "data": {
      "text/plain": [
       "17"
      ]
     },
     "execution_count": 190,
     "metadata": {},
     "output_type": "execute_result"
    }
   ],
   "source": [
    "max_score(grid = [\n",
    "    [1, 2, 3],\n",
    "    [4, 5, 6],\n",
    "    [7, 8, 9]\n",
    "]\n",
    ")"
   ]
  },
  {
   "cell_type": "markdown",
   "id": "e2030aa7",
   "metadata": {},
   "source": [
    "### memoization"
   ]
  },
  {
   "cell_type": "code",
   "execution_count": 183,
   "id": "f0ffaf08",
   "metadata": {},
   "outputs": [],
   "source": [
    "class ninja_score:\n",
    "    def __init__(self):\n",
    "        self.memo={}\n",
    "        \n",
    "    def base_value(self,grid,last):\n",
    "        max_val=0\n",
    "        for i in range(3):\n",
    "            if i!=last:\n",
    "                max_val=max(max_val,grid[0][i])\n",
    "        \n",
    "        return max_val\n",
    "    \n",
    "    def get_max(self,n,grid,last):\n",
    "        \n",
    "        if n==0:\n",
    "            return self.base_value(grid,last)\n",
    "        if (n,last) in self.memo:\n",
    "            return self.memo[(n,last)]\n",
    "            \n",
    "        max_val=0\n",
    "        for i in range(3):\n",
    "            if i != last:\n",
    "                max_val=max(max_val,grid[n][i]+self.get_max(n-1,grid,i))\n",
    "        self.memo[(n,last)]=max_val\n",
    "        \n",
    "        return max_val\n",
    "     "
   ]
  },
  {
   "cell_type": "code",
   "execution_count": 186,
   "id": "6cdd3995",
   "metadata": {},
   "outputs": [],
   "source": [
    "n_score=ninja_score()\n",
    "grid = [\n",
    "    [1, 2, 3],\n",
    "    [4, 5, 6],\n",
    "    [7, 8, 9],\n",
    "    [5, 8, 63],\n",
    "    [6, 13, 20]\n",
    "]"
   ]
  },
  {
   "cell_type": "code",
   "execution_count": 187,
   "id": "c3555272",
   "metadata": {},
   "outputs": [
    {
     "data": {
      "text/plain": [
       "92"
      ]
     },
     "execution_count": 187,
     "metadata": {},
     "output_type": "execute_result"
    }
   ],
   "source": [
    "n_score.get_max(len(grid)-1,grid,3)"
   ]
  },
  {
   "cell_type": "markdown",
   "id": "d52815ff",
   "metadata": {},
   "source": [
    "# Check the total number of unique paths in mxn grid"
   ]
  },
  {
   "cell_type": "markdown",
   "id": "94b0e70b",
   "metadata": {},
   "source": [
    "### memoization"
   ]
  },
  {
   "cell_type": "code",
   "execution_count": 239,
   "id": "2a0d158e",
   "metadata": {},
   "outputs": [
    {
     "name": "stdout",
     "output_type": "stream",
     "text": [
      "Number of unique paths: 126\n"
     ]
    }
   ],
   "source": [
    "class unique_paths:\n",
    "    def __init__(self):\n",
    "        self.memo={}\n",
    "        \n",
    "    def find_paths(self,m,n):\n",
    "        if (m,n) in self.memo:\n",
    "            return self.memo[(m,n)]\n",
    "        \n",
    "        if m==1 or n==1:\n",
    "            return 1\n",
    "        \n",
    "            \n",
    "        up=self.find_paths(m-1,n)\n",
    "        left=self.find_paths(m,n-1)\n",
    "        \n",
    "        self.memo[(m,n)]=up+left\n",
    "        return up+left\n",
    "    \n",
    "\n",
    "# Example usage:\n",
    "unique_paths_obj = unique_paths()\n",
    "result = unique_paths_obj.find_paths(6, 5)\n",
    "print(\"Number of unique paths:\", result)\n",
    "\n"
   ]
  },
  {
   "cell_type": "markdown",
   "id": "5b419069",
   "metadata": {},
   "source": [
    "### tabulation with space optimization"
   ]
  },
  {
   "cell_type": "code",
   "execution_count": 247,
   "id": "61a94675",
   "metadata": {},
   "outputs": [],
   "source": [
    "def tabu(m,n):\n",
    "    prev_left=0\n",
    "    prev_row=[1]*(n)\n",
    "\n",
    "    for count in range((m)-1):\n",
    "        prev_left=0\n",
    "        for row_element in range((n)):\n",
    "            cur=prev_left+prev_row[row_element]\n",
    "            prev_left=cur\n",
    "            prev_row[row_element]=cur\n",
    "    return prev_row[-1]"
   ]
  },
  {
   "cell_type": "code",
   "execution_count": 248,
   "id": "32548e2f",
   "metadata": {},
   "outputs": [
    {
     "data": {
      "text/plain": [
       "126"
      ]
     },
     "execution_count": 248,
     "metadata": {},
     "output_type": "execute_result"
    }
   ],
   "source": [
    "tabu(6,5)"
   ]
  },
  {
   "cell_type": "markdown",
   "id": "49597c56",
   "metadata": {},
   "source": [
    "# Find the minimum path in a grid"
   ]
  },
  {
   "cell_type": "markdown",
   "id": "fa4866e7",
   "metadata": {},
   "source": [
    "### memoization"
   ]
  },
  {
   "cell_type": "code",
   "execution_count": 455,
   "id": "3a528fe4",
   "metadata": {},
   "outputs": [],
   "source": [
    "class max_path:\n",
    "    def __init__(self,grid):\n",
    "        self.grid=grid\n",
    "        self.memo={}\n",
    "        \n",
    "    def find_max(self,m,n):\n",
    "        \n",
    "        if (m,n)==(0,0):\n",
    "            return self.grid[m][n]\n",
    "        \n",
    "        \n",
    "        if (m,n) in self.memo:\n",
    "            return self.memo[(m,n)]\n",
    "        \n",
    "        if m<0 or n<0:\n",
    "            return float('inf')\n",
    "        \n",
    "        left=self.grid[m][n]+self.find_max(m,n-1)\n",
    "        up=self.grid[m][n]+self.find_max(m-1,n)\n",
    "        \n",
    "        self.memo[(m,n)]=min(left,up)\n",
    "        return min(left,up)"
   ]
  },
  {
   "cell_type": "code",
   "execution_count": 456,
   "id": "35c2c170",
   "metadata": {},
   "outputs": [
    {
     "data": {
      "text/plain": [
       "13"
      ]
     },
     "execution_count": 456,
     "metadata": {},
     "output_type": "execute_result"
    }
   ],
   "source": [
    "matrix=[[5,3,8,2,6],\n",
    "        [6,1,4,3,2],\n",
    "        [3,8,1,2,3],\n",
    "        [2,4,3,7,1],\n",
    "        [1,3,5,4,6]]\n",
    "mp=max_path(matrix)\n",
    "mp.find_max(1,2)"
   ]
  },
  {
   "cell_type": "markdown",
   "id": "3e1ffa04",
   "metadata": {},
   "source": [
    "### Tabulation "
   ]
  },
  {
   "cell_type": "code",
   "execution_count": 326,
   "id": "7519b5f6",
   "metadata": {},
   "outputs": [],
   "source": [
    "def tabu(m,n,matrix):\n",
    "    dp=[[-1 for i in range(n+1)] for j in range(m+1)]\n",
    "    \n",
    "    for row in range(m+1):\n",
    "        for col in range(n+1):\n",
    "            if row==0 and col==0:\n",
    "                dp[row][col]=matrix[row][col]\n",
    "            else:\n",
    "                if row==0:\n",
    "                    cur=dp[row][col-1]+matrix[row][col]\n",
    "                    dp[row][col]=cur\n",
    "                elif col==0:\n",
    "                    cur=dp[row-1][col]+matrix[row][col]\n",
    "                    dp[row][col]=cur\n",
    "                else:\n",
    "                    cur_up=matrix[row][col]+dp[row-1][col]\n",
    "                    cur_left=matrix[row][col]+dp[row][col-1]\n",
    "                   \n",
    "                    dp[row][col]=min(cur_up,cur_left)\n",
    "\n",
    "                \n",
    "    return dp[-1][-1]                \n"
   ]
  },
  {
   "cell_type": "code",
   "execution_count": 337,
   "id": "6ae564c3",
   "metadata": {},
   "outputs": [
    {
     "data": {
      "text/plain": [
       "13"
      ]
     },
     "execution_count": 337,
     "metadata": {},
     "output_type": "execute_result"
    }
   ],
   "source": [
    "tabu(1,2,matrix)"
   ]
  },
  {
   "cell_type": "markdown",
   "id": "cd94264f",
   "metadata": {},
   "source": [
    "# Total number of lakes in Island"
   ]
  },
  {
   "cell_type": "code",
   "execution_count": 354,
   "id": "0b850aaa",
   "metadata": {},
   "outputs": [],
   "source": [
    "class lake_island:\n",
    "    def __init__(self,gird):\n",
    "        self.grid=grid\n",
    "        self.visited=set()\n",
    "        self.total_lakes=0\n",
    "        \n",
    "    def find_lakes(self,row,col):\n",
    "\n",
    "        def dfs_lake(row,col):\n",
    "\n",
    "            self.visited.add((row,col))\n",
    "\n",
    "            for r,c in [(0,1),(-1,0),(0,-1),(1,0)]:\n",
    "                new_row=row+r\n",
    "                new_col=col+c\n",
    "\n",
    "                if 0<=new_row<len(self.grid) and 0<=new_col<len(self.grid[0]) and (new_row,new_col) not in self.visited:\n",
    "                    if self.grid[new_row][new_col]==0:\n",
    "                        dfs_lake(new_row,new_col)\n",
    "            return True\n",
    "\n",
    "        def dfs_island(row,col):\n",
    "\n",
    "            self.visited.add((row,col))\n",
    "\n",
    "            for r,c in [(0,1),(-1,0),(0,-1),(1,0)]:\n",
    "                new_row=row+r\n",
    "                new_col=col+c\n",
    "\n",
    "                if 0<=new_row<len(self.grid) and 0<=new_col<len(self.grid[0]) and (new_row,new_col) not in self.visited:\n",
    "\n",
    "                    if self.grid[new_row][new_col]==0:\n",
    "                        if dfs_lake(new_row,new_col):\n",
    "                            self.total_lakes+=1\n",
    "\n",
    "                    if self.grid[new_row][new_col]==1:\n",
    "                        dfs_island(new_row,new_col)\n",
    "        dfs_island(row,col)\n",
    "        return self.total_lakes"
   ]
  },
  {
   "cell_type": "code",
   "execution_count": 355,
   "id": "a807e6fa",
   "metadata": {},
   "outputs": [],
   "source": [
    "grid=[[1, 1, 1, 1, 1, 1, 1, 1, 1],\n",
    "      [1, 0, 0, 1, 0, 0, 1, 0, 1],\n",
    "      [1, 0, 1, 1, 0, 0, 1, 1, 1],\n",
    "      [1, 1, 1, 1, 1, 1, 1, 1, 0]]\n",
    "total_lakes=lake_island(grid)"
   ]
  },
  {
   "cell_type": "code",
   "execution_count": 356,
   "id": "3e53498f",
   "metadata": {},
   "outputs": [
    {
     "data": {
      "text/plain": [
       "4"
      ]
     },
     "execution_count": 356,
     "metadata": {},
     "output_type": "execute_result"
    }
   ],
   "source": [
    "total_lakes.find_lakes(3,3)"
   ]
  },
  {
   "cell_type": "markdown",
   "id": "cd8132fb",
   "metadata": {},
   "source": [
    "# Minimum sum in the triangle array"
   ]
  },
  {
   "cell_type": "markdown",
   "id": "c2a988c8",
   "metadata": {},
   "source": [
    "### Memoization"
   ]
  },
  {
   "cell_type": "code",
   "execution_count": 390,
   "id": "3c7ce968",
   "metadata": {},
   "outputs": [],
   "source": [
    "class triangle_sum:\n",
    "    def __init__(self,grid):\n",
    "        self.grid=grid\n",
    "        self.memo={}\n",
    "        \n",
    "    def get_sum(self,row,col):\n",
    "        if row>=len(self.grid):\n",
    "            return 0\n",
    "        \n",
    "        if (row,col) in self.memo:\n",
    "            return self.memo[(row,col)]\n",
    "        \n",
    "        down_dec=self.grid[row][col]+self.get_sum(row+1,col)\n",
    "        down_left_dec= self.grid[row][col]+self.get_sum(row+1,col+1)\n",
    "        \n",
    "        min_of_dec=min(down_dec,down_left_dec)\n",
    "        self.memo[(row,col)]=min_of_dec\n",
    "        \n",
    "        return min_of_dec"
   ]
  },
  {
   "cell_type": "code",
   "execution_count": 391,
   "id": "52929b1c",
   "metadata": {},
   "outputs": [],
   "source": [
    "matrix=[[1],\n",
    "        [5, 3],\n",
    "        [5, 1, 4],\n",
    "        [3, 5, 1, 4],\n",
    "        [5, 4, 3, 8, 7]]\n",
    "get_triangle_sum=triangle_sum(matrix)"
   ]
  },
  {
   "cell_type": "code",
   "execution_count": 392,
   "id": "4b7f069c",
   "metadata": {},
   "outputs": [
    {
     "data": {
      "text/plain": [
       "9"
      ]
     },
     "execution_count": 392,
     "metadata": {},
     "output_type": "execute_result"
    }
   ],
   "source": [
    "get_triangle_sum.get_sum(0,0)"
   ]
  },
  {
   "cell_type": "markdown",
   "id": "126314c0",
   "metadata": {},
   "source": [
    "### Tabulatoin"
   ]
  },
  {
   "cell_type": "code",
   "execution_count": 410,
   "id": "3f9a7778",
   "metadata": {},
   "outputs": [],
   "source": [
    "class triangle_sum_tab:\n",
    "    def __init__(self,grid):\n",
    "        self.grid=grid\n",
    "        self.dp=[[0 for j in range(i+1)] for i in range(len(self.grid))]\n",
    "    \n",
    "    def get_sum(self):\n",
    "        \n",
    "        self.dp[0][0]=self.grid[0][0]\n",
    "        \n",
    "        for row in range(1,len(self.grid)):\n",
    "            for col in range(0,row+1):\n",
    "                \n",
    "                if col==0:\n",
    "                    top_ans=self.grid[row][col]+self.dp[row-1][col]\n",
    "                    top_left=float('inf')\n",
    "                elif col==row:\n",
    "                    top_left=self.grid[row][col]+self.dp[row-1][col-1]\n",
    "                    top_ans=float('inf')\n",
    "                else:\n",
    "                    top_left=self.grid[row][col]+self.dp[row-1][col-1]\n",
    "                    top_ans=self.grid[row][col]+self.dp[row-1][col]\n",
    "                    \n",
    "                self.dp[row][col]=min(top_left,top_ans)\n",
    "                    \n",
    "        return min(self.dp[-1])\n"
   ]
  },
  {
   "cell_type": "code",
   "execution_count": 416,
   "id": "02e934da",
   "metadata": {},
   "outputs": [
    {
     "data": {
      "text/plain": [
       "9"
      ]
     },
     "execution_count": 416,
     "metadata": {},
     "output_type": "execute_result"
    }
   ],
   "source": [
    "matrix=[[1],\n",
    "        [5, 3],\n",
    "        [5, 1, 4],\n",
    "        [3, 5, 1, 4],\n",
    "        [5, 4, 3, 8, 7]]\n",
    "tst=triangle_sum_tab(matrix)\n",
    "tst.get_sum()"
   ]
  },
  {
   "cell_type": "markdown",
   "id": "88b966a6",
   "metadata": {},
   "source": [
    "# *** Sub-sequence and Sub Arrays DP ***"
   ]
  },
  {
   "cell_type": "markdown",
   "id": "64cbf593",
   "metadata": {},
   "source": [
    "## 1. find the sub sequence that can for target "
   ]
  },
  {
   "cell_type": "markdown",
   "id": "f2844bfa",
   "metadata": {},
   "source": [
    "### Memoization"
   ]
  },
  {
   "cell_type": "code",
   "execution_count": 1,
   "id": "ab350d5c",
   "metadata": {},
   "outputs": [],
   "source": [
    "class findSubsequence:\n",
    "    def __init__(self,array):\n",
    "        self.memo={}\n",
    "        self.arr=array\n",
    "        \n",
    "    def find_sub(self,n,target):\n",
    "        if target==0:\n",
    "            return True\n",
    "        \n",
    "        if n==0:\n",
    "            return self.arr[n]==target\n",
    "        \n",
    "        if (n,target) in self.memo:\n",
    "            return self.memo[(n, target)]\n",
    "        \n",
    "        not_pick=self.find_sub(n-1,target)\n",
    "        pick=False\n",
    "        if self.arr[n]<=target:\n",
    "            pick=self.find_sub(n-1,target-self.arr[n])\n",
    "        self.memo[(n,target)]=pick or not_pick\n",
    "        \n",
    "        return pick or not_pick"
   ]
  },
  {
   "cell_type": "code",
   "execution_count": 2,
   "id": "d1fd2cba",
   "metadata": {},
   "outputs": [
    {
     "data": {
      "text/plain": [
       "True"
      ]
     },
     "execution_count": 2,
     "metadata": {},
     "output_type": "execute_result"
    }
   ],
   "source": [
    "ar=[4,2,8,1,9,12,6,10]\n",
    "check_target=findSubsequence(ar)\n",
    "check_target.find_sub(len(ar)-1,23)"
   ]
  },
  {
   "cell_type": "markdown",
   "id": "8d75d64d",
   "metadata": {},
   "source": [
    "### Tabulation"
   ]
  },
  {
   "cell_type": "code",
   "execution_count": 5,
   "id": "17639fc1",
   "metadata": {},
   "outputs": [],
   "source": [
    "def tabu_check_sum(target,arr):\n",
    "    dp=[[0 for i in range(target+1)] for j in range(len(arr))]\n",
    "\n",
    "    for ind in range(len(arr)):\n",
    "        dp[ind][0]=True\n",
    "    dp[0][arr[0]]= True\n",
    "\n",
    "    for ind in range(1,len(arr)):\n",
    "        for tar in range(1,target+1):\n",
    "\n",
    "            not_pick=dp[ind-1][tar]\n",
    "            pick=False\n",
    "            if arr[ind]<=target:\n",
    "                pick=dp[ind-1][tar-arr[ind]]\n",
    "            dp[ind][tar]=pick or not_pick\n",
    "    return dp[len(arr)-1][tar]"
   ]
  },
  {
   "cell_type": "code",
   "execution_count": 6,
   "id": "fcd22a0b",
   "metadata": {},
   "outputs": [
    {
     "data": {
      "text/plain": [
       "True"
      ]
     },
     "execution_count": 6,
     "metadata": {},
     "output_type": "execute_result"
    }
   ],
   "source": [
    "ar=[4,2,8,1,9,12,6,10]\n",
    "tabu_check_sum(23,ar)"
   ]
  },
  {
   "cell_type": "markdown",
   "id": "b7c55782",
   "metadata": {},
   "source": [
    "# count the total number of subsequence in a array that can form target"
   ]
  },
  {
   "cell_type": "markdown",
   "id": "ae00c5f4",
   "metadata": {},
   "source": [
    "### Memoization"
   ]
  },
  {
   "cell_type": "code",
   "execution_count": 7,
   "id": "d00c2da2",
   "metadata": {},
   "outputs": [],
   "source": [
    "class totalSubsequence:\n",
    "    def __init__(self,arr):\n",
    "        self.memo={}\n",
    "        self.arr=arr\n",
    "        \n",
    "    def find_count(self,index,target):\n",
    "        \n",
    "        if target==0:\n",
    "            return 1\n",
    "        if index==0:\n",
    "            return (self.arr[0]==target)\n",
    "        if (index,target) in self.memo:\n",
    "            return self.memo[(index,target)]\n",
    "        not_pick=self.find_count(index-1,target)\n",
    "        pick=0\n",
    "        if self.arr[index]<=target:\n",
    "            pick=self.find_count(index-1,target-self.arr[index])\n",
    "        \n",
    "        self.memo[(index,target)]=not_pick+pick    \n",
    "        return not_pick+pick"
   ]
  },
  {
   "cell_type": "code",
   "execution_count": 8,
   "id": "31b4d586",
   "metadata": {},
   "outputs": [
    {
     "data": {
      "text/plain": [
       "4"
      ]
     },
     "execution_count": 8,
     "metadata": {},
     "output_type": "execute_result"
    }
   ],
   "source": [
    "ar=[4,2,8,1,9,12,6,10]\n",
    "total_ss=totalSubsequence(ar)\n",
    "total_ss.find_count(len(ar)-1,10)"
   ]
  },
  {
   "cell_type": "markdown",
   "id": "ba5004a3",
   "metadata": {},
   "source": [
    "### Tabulation"
   ]
  },
  {
   "cell_type": "markdown",
   "id": "65c01a0f",
   "metadata": {},
   "source": [
    "# Unbounded knapsack problem "
   ]
  },
  {
   "cell_type": "markdown",
   "id": "c1f719da",
   "metadata": {},
   "source": [
    "### Memoization"
   ]
  },
  {
   "cell_type": "code",
   "execution_count": 10,
   "id": "91a55a26",
   "metadata": {},
   "outputs": [],
   "source": [
    "class knapSack:\n",
    "    def __init__(self,values,weights):\n",
    "        self.values=values\n",
    "        self.weights=weights\n",
    "        self.memo={}\n",
    "    \n",
    "    def theft(self,item,bag_weight):\n",
    "        # base cases\n",
    "        if item==0:\n",
    "            if bag_weight >=self.weights[item]:\n",
    "                return (bag_weight//self.weights[item])*self.values[item]\n",
    "            else:\n",
    "                return 0\n",
    "        \n",
    "        # conditions\n",
    "        dont_rob=0+self.theft(item-1, bag_weight)\n",
    "        \n",
    "        rob=float('-inf')\n",
    "        if bag_weight>=self.weights[item]:\n",
    "            rob=self.values[item]+self.theft(item,bag_weight-self.weights[item])\n",
    "        \n",
    "        return max(rob,dont_rob)\n",
    "\n",
    "\n",
    "\n"
   ]
  },
  {
   "cell_type": "code",
   "execution_count": 11,
   "id": "92167a30",
   "metadata": {},
   "outputs": [
    {
     "data": {
      "text/plain": [
       "16"
      ]
     },
     "execution_count": 11,
     "metadata": {},
     "output_type": "execute_result"
    }
   ],
   "source": [
    "values=[3,4,5]\n",
    "weights=[2,4,3]\n",
    "Theft=knapSack(values,weights)\n",
    "Theft.theft(len(weights)-1,10)"
   ]
  },
  {
   "cell_type": "markdown",
   "id": "92ef93cd",
   "metadata": {},
   "source": [
    "# DP on strings\n"
   ]
  },
  {
   "cell_type": "markdown",
   "id": "ff471248",
   "metadata": {},
   "source": [
    "# Longest common subsequence"
   ]
  },
  {
   "cell_type": "markdown",
   "id": "9f908a94",
   "metadata": {},
   "source": [
    "### memoization"
   ]
  },
  {
   "cell_type": "code",
   "execution_count": 150,
   "id": "4c909218",
   "metadata": {},
   "outputs": [],
   "source": [
    "class LongestCommonSub:\n",
    "        \n",
    "    def getLCM(self, string1Ind, string2Ind):\n",
    "        if string1Ind < 0 or string2Ind < 0:\n",
    "            return 0\n",
    "        if self.memo[string1Ind][string2Ind] != -1:\n",
    "            return self.memo[string1Ind][string2Ind]\n",
    "        if self.string1[string1Ind] == self.string2[string2Ind]:\n",
    "            lcm = 1 + self.getLCM(string1Ind - 1, string2Ind - 1)\n",
    "        else:\n",
    "            lcm = 0 + max(self.getLCM(string1Ind - 1, string2Ind), self.getLCM(string1Ind, string2Ind - 1))\n",
    "        self.memo[string1Ind][string2Ind] = lcm\n",
    "        return lcm\n",
    "    \n",
    "    def giveStrings(self, string1, string2):\n",
    "        self.string1 = string1\n",
    "        self.string2 = string2\n",
    "        self.memo = [[-1 for j in range(len(string2))] for i in range(len(string1))]\n",
    "        return self.getLCM(len(string1) - 1, len(string2) - 1)\n",
    "    \n",
    "    "
   ]
  },
  {
   "cell_type": "code",
   "execution_count": 151,
   "id": "f157a411",
   "metadata": {},
   "outputs": [
    {
     "data": {
      "text/plain": [
       "2"
      ]
     },
     "execution_count": 151,
     "metadata": {},
     "output_type": "execute_result"
    }
   ],
   "source": [
    "s1='sdmrsg'\n",
    "s2='drwbqk'\n",
    "lcm=LongestCommonSub()\n",
    "lcm.giveStrings(s1,s2)\n",
    "\n"
   ]
  },
  {
   "cell_type": "markdown",
   "id": "f589505b",
   "metadata": {},
   "source": [
    "### Tabulation"
   ]
  },
  {
   "cell_type": "code",
   "execution_count": 152,
   "id": "f916b93d",
   "metadata": {},
   "outputs": [],
   "source": [
    "class LCM_tabu:\n",
    "        \n",
    "    def giveStrings(self,string1,string2):\n",
    "        self.memo=[[0 for row in range(len(string2)+1)] for column in range(len(string1)+1)]\n",
    "        for row in range(len(self.memo)):\n",
    "            self.memo[row][0]=0\n",
    "        for col in range(len(self.memo[0])):\n",
    "            self.memo[0][col]=0\n",
    "        self.string1=string1\n",
    "        self.string2=string2\n",
    "        \n",
    "        \n",
    "        for row in range(1,len(self.memo)):\n",
    "            for col in range(1,len(self.memo[0])):\n",
    "                \n",
    "                if self.string1[row-1]==self.string2[col-1]:\n",
    "                    self.memo[row][col]=1+self.memo[row-1][col-1]\n",
    "                else:\n",
    "                    self.memo[row][col]=max(self.memo[row-1][col],self.memo[row][col-1])\n",
    "        return self.memo[row][col]\n",
    "   \n",
    "    def get_lcm(self):\n",
    "        \n",
    "        row=len(self.memo)-1\n",
    "        col=len(self.memo[0])-1\n",
    "        output=''\n",
    "        while row >0 and col>0:\n",
    "            \n",
    "            if self.string1[row-1]==self.string2[col-1]:\n",
    "                output+=self.string1[row-1]\n",
    "                row=row-1\n",
    "                col=col-1\n",
    "            else:\n",
    "                if self.memo[row-1][col]>=self.memo[row][col-1]:\n",
    "                    row=row-1\n",
    "                else:\n",
    "                    col=col-1\n",
    "        output=output[::-1]\n",
    "        return output\n",
    "\n",
    "    \n"
   ]
  },
  {
   "cell_type": "code",
   "execution_count": 154,
   "id": "2b83e221",
   "metadata": {},
   "outputs": [
    {
     "data": {
      "text/plain": [
       "'dr'"
      ]
     },
     "execution_count": 154,
     "metadata": {},
     "output_type": "execute_result"
    }
   ],
   "source": [
    "s1='sdmrsg'\n",
    "s2='drwbqk'\n",
    "lcm=LCM_tabu()\n",
    "lcm.giveStrings(s1,s2)\n",
    "lcm.get_lcm()"
   ]
  },
  {
   "cell_type": "markdown",
   "id": "be77ecfe",
   "metadata": {},
   "source": [
    "#  LCSubstring of two strings"
   ]
  },
  {
   "cell_type": "markdown",
   "id": "c752c4de",
   "metadata": {},
   "source": [
    "### Memoization"
   ]
  },
  {
   "cell_type": "code",
   "execution_count": 210,
   "id": "6c511afc",
   "metadata": {},
   "outputs": [],
   "source": [
    "class lcSubstring:\n",
    "    def __init__(self):\n",
    "        self.ans=0\n",
    "        self.cur=0\n",
    "    def give_strings(self,str1,str2):\n",
    "        self.string1=str1\n",
    "        self.string2=str2\n",
    "        self.memo=[[0 for j in range(len(self.string2)+1)] for i in range(len(self.string1)+1)]\n",
    "        ans=0\n",
    "        for index in range(1,len(str1)+1):\n",
    "            \n",
    "            for index2 in range(1,len(str2)+1):\n",
    "                if str1[index-1]==str2[index2-1]:\n",
    "                    cur=1+self.memo[index-1][index2-1]\n",
    "                    self.memo[index][index2]=cur\n",
    "                    ans=max(ans,cur)\n",
    "\n",
    "        return ans\n",
    "                    "
   ]
  },
  {
   "cell_type": "code",
   "execution_count": 212,
   "id": "8b92d537",
   "metadata": {},
   "outputs": [
    {
     "data": {
      "text/plain": [
       "2"
      ]
     },
     "execution_count": 212,
     "metadata": {},
     "output_type": "execute_result"
    }
   ],
   "source": [
    "lcs=lcSubstring()\n",
    "s1='abcde'\n",
    "s2='abdek'\n",
    "lcs.give_strings(s1,s2)"
   ]
  },
  {
   "cell_type": "markdown",
   "id": "e075ef73",
   "metadata": {},
   "source": [
    "# Longest palindromic subsequence"
   ]
  },
  {
   "cell_type": "markdown",
   "id": "469dde04",
   "metadata": {},
   "source": [
    "### memoization"
   ]
  },
  {
   "cell_type": "code",
   "execution_count": 238,
   "id": "93d5e423",
   "metadata": {},
   "outputs": [],
   "source": [
    "class LPS: \n",
    "    def get_LPS(self,ind1,ind2):\n",
    "        #base cases\n",
    "        if ind1<0 or ind2<0:\n",
    "            return 0\n",
    "        if (ind1,ind2) in self.memo:\n",
    "            return self.memo[(ind1,ind2)]\n",
    "        \n",
    "        if self.string1[ind1]==self.string2[ind2]:\n",
    "            match=1+self.get_LPS(ind1-1,ind2-1)\n",
    "        else:\n",
    "            match=0+max(self.get_LPS(ind1-1,ind2),self.get_LPS(ind1,ind2-1))\n",
    "        self.memo[(ind1,ind2)]=match\n",
    "        return match\n",
    "    \n",
    "    def get_string(self,str1):\n",
    "        self.string1=str1\n",
    "        self.string2=str1[::-1]\n",
    "        self.memo={}\n",
    "        \n",
    "        return self.get_LPS(len(str1)-1,len(str1)-1)\n",
    "    "
   ]
  },
  {
   "cell_type": "code",
   "execution_count": 239,
   "id": "703cc116",
   "metadata": {},
   "outputs": [
    {
     "data": {
      "text/plain": [
       "7"
      ]
     },
     "execution_count": 239,
     "metadata": {},
     "output_type": "execute_result"
    }
   ],
   "source": [
    "string='bababcbab'\n",
    "lps=LPS()\n",
    "lps.get_string(string)"
   ]
  },
  {
   "cell_type": "code",
   "execution_count": 240,
   "id": "8e4b232c",
   "metadata": {},
   "outputs": [],
   "source": [
    "def tabu_LPS(string):\n",
    "    s1=string\n",
    "    s2=s1[::-1]\n",
    "    \n",
    "    dp=[[0 for row in range(len(s1)+1)] for col in range(len(s1)+1)]\n",
    "    \n",
    "    for row in range(1,len(dp)):\n",
    "        for col in range(1,len(dp[0])):\n",
    "            \n",
    "            if s1[row-1]==s2[col-1]:\n",
    "                dp[row][col]=1+dp[row-1][col-1]\n",
    "            else:\n",
    "                dp[row][col]=max(dp[row-1][col],dp[row][col-1])\n",
    "    \n",
    "    output=''\n",
    "    while row>0 and col>0:\n",
    "            \n",
    "            if s1[row-1]==s2[col-1]:\n",
    "                output+=s1[row-1]\n",
    "                row=row-1\n",
    "                col=col-1\n",
    "            else:\n",
    "                if dp[row-1][col]>dp[row][col-1]:\n",
    "                    row=row-1\n",
    "                else:\n",
    "                    col=col-1\n",
    "    return output[::-1]\n",
    "\n",
    "\n"
   ]
  },
  {
   "cell_type": "code",
   "execution_count": 241,
   "id": "ad2eb109",
   "metadata": {},
   "outputs": [
    {
     "data": {
      "text/plain": [
       "'babcbab'"
      ]
     },
     "execution_count": 241,
     "metadata": {},
     "output_type": "execute_result"
    }
   ],
   "source": [
    "tabu_LPS('bababcbab')"
   ]
  },
  {
   "cell_type": "markdown",
   "id": "a2f2c596",
   "metadata": {},
   "source": [
    "# Minimum number of Insertions to make string palindrome"
   ]
  },
  {
   "cell_type": "markdown",
   "id": "54d54310",
   "metadata": {},
   "source": [
    "### brute Force"
   ]
  },
  {
   "cell_type": "code",
   "execution_count": 249,
   "id": "f3bf692b",
   "metadata": {},
   "outputs": [
    {
     "name": "stdout",
     "output_type": "stream",
     "text": [
      "2\n"
     ]
    }
   ],
   "source": [
    "str1='bababcbab'\n",
    "initial_length=len(str1)\n",
    "\n",
    "i=0\n",
    "j=initial_length-1\n",
    "while i<j:\n",
    "    if str1[i]!=str1[j]:\n",
    "        str1=str1[:i]+str1[j]+str1[i:]\n",
    "        i+=1\n",
    "    else:\n",
    "        i+=1\n",
    "        j-=1\n",
    "print(len(str1)-initial_length)"
   ]
  },
  {
   "cell_type": "markdown",
   "id": "ad3dd609",
   "metadata": {},
   "source": [
    "## (using LCS len and then substracting it with len of the str) Here just memoization is done "
   ]
  },
  {
   "cell_type": "code",
   "execution_count": 252,
   "id": "4e8723a7",
   "metadata": {},
   "outputs": [],
   "source": [
    "class min_pal:\n",
    "    \n",
    "    def get_lcs(self,ind1,ind2):\n",
    "        if ind1<0 or ind2<0:\n",
    "            return 0\n",
    "        if (ind1,ind2) in self.memo:\n",
    "            return self.memo[(ind1,ind2)]\n",
    "        \n",
    "        if self.string1[ind1]==self.string2[ind2]:\n",
    "            match=1+self.get_lcs(ind1-1,ind2-1)\n",
    "        else:\n",
    "            match=max(self.get_lcs(ind1-1,ind2),self.get_lcs(ind1,ind2-1))\n",
    "        self.memo[(ind1,ind2)]=match\n",
    "        return match\n",
    "    def give_string(self,str1):\n",
    "        self.string1=str1\n",
    "        self.string2=str1[::-1]\n",
    "        self.memo={}\n",
    "        \n",
    "        ind1=ind2=len(str1)-1\n",
    "        return len(str1)-self.get_lcs(ind1,ind2)"
   ]
  },
  {
   "cell_type": "code",
   "execution_count": 253,
   "id": "e8947b04",
   "metadata": {},
   "outputs": [
    {
     "data": {
      "text/plain": [
       "2"
      ]
     },
     "execution_count": 253,
     "metadata": {},
     "output_type": "execute_result"
    }
   ],
   "source": [
    "mpal=min_pal()\n",
    "str1=str1='bababcbab'\n",
    "mpal.give_string(str1)"
   ]
  },
  {
   "cell_type": "markdown",
   "id": "28e7e5e2",
   "metadata": {},
   "source": [
    "# minimum insertions and deletions to convert str1 to str2\n"
   ]
  },
  {
   "cell_type": "markdown",
   "id": "1ab552e7",
   "metadata": {},
   "source": [
    "## we can do this with finding LCS max and then substracting it with both string length and then adding the valyes\n"
   ]
  },
  {
   "cell_type": "markdown",
   "id": "02459432",
   "metadata": {},
   "source": [
    "### memoization"
   ]
  },
  {
   "cell_type": "code",
   "execution_count": 260,
   "id": "020210f2",
   "metadata": {},
   "outputs": [],
   "source": [
    "class convertString:\n",
    "    def get_lcm(self,ind1,ind2):\n",
    "        if ind1<0 or ind2<0:\n",
    "            return 0\n",
    "        if (ind1,ind2) in self.memo:\n",
    "            return self.memo[(ind1,ind2)]\n",
    "        \n",
    "        if self.string1[ind1]==self.string2[ind2]:\n",
    "            match=1+self.get_lcm(ind1-1,ind2-1)\n",
    "        else:\n",
    "            match=0+max(self.get_lcm(ind1-1,ind2),self.get_lcm(ind1,ind2-1))\n",
    "        self.memo[(ind1,ind2)]=match\n",
    "        return match\n",
    "    \n",
    "    def get_strings(self,str1,str2):\n",
    "        self.string1=str1\n",
    "        self.string2=str2\n",
    "        self.memo={}\n",
    "        \n",
    "        lcm_value= self.get_lcm(len(str1)-1,len(str2)-1)\n",
    "        m=len(self.string1)\n",
    "        n=len(self.string2)\n",
    "        output=m+n- (2*lcm_value)\n",
    "        return output"
   ]
  },
  {
   "cell_type": "code",
   "execution_count": 261,
   "id": "50d5c763",
   "metadata": {},
   "outputs": [
    {
     "data": {
      "text/plain": [
       "3"
      ]
     },
     "execution_count": 261,
     "metadata": {},
     "output_type": "execute_result"
    }
   ],
   "source": [
    "con_string=convertString()\n",
    "con_string.get_strings('abcd','anc')"
   ]
  },
  {
   "cell_type": "markdown",
   "id": "24f88d65",
   "metadata": {},
   "source": [
    "# Graph problems"
   ]
  },
  {
   "cell_type": "markdown",
   "id": "1b284fbe",
   "metadata": {},
   "source": [
    "## Finding number of provencies"
   ]
  },
  {
   "cell_type": "code",
   "execution_count": 24,
   "id": "61e5fdbe",
   "metadata": {},
   "outputs": [],
   "source": [
    "class NP:\n",
    "    def __init__(self):\n",
    "        pass\n",
    "    \n",
    "    def traverse_nodes(self,node):\n",
    "        \n",
    "        self.visited.add(node)\n",
    "        \n",
    "        for nieghbours in self.graph[node]:\n",
    "            if self.graph[node][nieghbours]==1 and nieghbours not in self.visited:\n",
    "                return self.traverse_nodes(nieghbours)\n",
    "        return True\n",
    "    \n",
    "    def get_graph(self,graph):\n",
    "        self.graph=graph\n",
    "        self.visited=set()\n",
    "        total_provincies=0\n",
    "        for i in range(len(self.graph)):\n",
    "            if i not in self.visited:\n",
    "                if self.traverse_nodes(i):\n",
    "                    total_provincies+=1\n",
    "        return total_provincies\n"
   ]
  },
  {
   "cell_type": "code",
   "execution_count": 25,
   "id": "60693d17",
   "metadata": {},
   "outputs": [
    {
     "data": {
      "text/plain": [
       "2"
      ]
     },
     "execution_count": 25,
     "metadata": {},
     "output_type": "execute_result"
    }
   ],
   "source": [
    "np=NP()\n",
    "matrix=[[1,1,0],[1,1,0],[0,0,1]]\n",
    "np.get_graph(matrix)"
   ]
  },
  {
   "cell_type": "markdown",
   "id": "f9217951",
   "metadata": {},
   "source": [
    "# **** Interview question****"
   ]
  },
  {
   "cell_type": "markdown",
   "id": "be1a6f76",
   "metadata": {},
   "source": [
    "# check the maximum chocolates collected\n"
   ]
  },
  {
   "cell_type": "code",
   "execution_count": 453,
   "id": "31e4a346",
   "metadata": {},
   "outputs": [],
   "source": [
    "class collectChocolates:\n",
    "    def __init__(self,grid):\n",
    "        self.grid=grid\n",
    "        self.memo={}\n",
    "        \n",
    "    def rec(self,row,alice_col,bob_col):\n",
    "        if (row,alice_col,bob_col) in self.memo:\n",
    "            return self.memo[(row,alice_col,bob_col)]\n",
    "        \n",
    "        if row>=len(self.grid) or 0>alice_col or alice_col>=len(self.grid[0]) or 0>bob_col or bob_col>=len(self.grid[0]):\n",
    "            return float('-inf')\n",
    "        \n",
    "        if row==len(self.grid)-1:\n",
    "            return self.grid[row][alice_col] + self.grid[row][bob_col]\n",
    "        \n",
    "        max_value=0\n",
    "        for alice in [-1 , 0 ,1]:\n",
    "            for bob in [-1, 0, 1]:\n",
    "                \n",
    "                if alice_col==bob_col:\n",
    "                    cur=self.grid[row][alice_col]+self.rec(row+1,alice_col+alice,bob_col+bob)\n",
    "                else:                \n",
    "                    cur=self.grid[row][alice_col]+self.grid[row][bob_col]+self.rec(row+1,alice_col+alice,bob_col+bob)\n",
    "                max_value=max(max_value,cur)\n",
    "                \n",
    "        self.memo[(row,alice_col,bob_col)]=max_value\n",
    "        return max_value\n",
    "        \n",
    "        "
   ]
  },
  {
   "cell_type": "code",
   "execution_count": 454,
   "id": "b7f74ea6",
   "metadata": {},
   "outputs": [
    {
     "data": {
      "text/plain": [
       "60"
      ]
     },
     "execution_count": 454,
     "metadata": {},
     "output_type": "execute_result"
    }
   ],
   "source": [
    "matrix=[[2,5,7,3,4],\n",
    "        [3,4,5,4,3],\n",
    "        [2,4,3,2,7],\n",
    "        [1,21,4,1,5],\n",
    "        [2,4,3,4,5]]\n",
    "collect_chocolate=collectChocolates(matrix)\n",
    "collect_chocolate.rec(0,0,4)"
   ]
  },
  {
   "cell_type": "markdown",
   "id": "1419b8fd",
   "metadata": {},
   "source": [
    "# Interview Question"
   ]
  },
  {
   "cell_type": "code",
   "execution_count": 517,
   "id": "240ecefa",
   "metadata": {},
   "outputs": [],
   "source": [
    "from collections import Counter\n",
    "def guess(secret_word, input_word):\n",
    "    \n",
    "    if len(secret_word)!=len(input_word):\n",
    "        return \"wrong word\"\n",
    "    \n",
    "    \n",
    "    secret_set=Counter(secret_word)\n",
    "    output=''\n",
    "    for i in range(len(input_word)):\n",
    "        \n",
    "        if input_word[i] in secret_set:\n",
    "            if input_word[i]==secret_word[i]:\n",
    "                output+='G'\n",
    "            else:\n",
    "                output+='Y'\n",
    "            secret_set[input_word[i]]-=1\n",
    "            if secret_set[input_word[i]]==0:\n",
    "                del secret_set[input_word[i]]\n",
    "        else:\n",
    "            output+='R'\n",
    "    return output"
   ]
  },
  {
   "cell_type": "code",
   "execution_count": 518,
   "id": "bef89aaa",
   "metadata": {},
   "outputs": [
    {
     "data": {
      "text/plain": [
       "'GGRRG'"
      ]
     },
     "execution_count": 518,
     "metadata": {},
     "output_type": "execute_result"
    }
   ],
   "source": [
    "guess('APINE','APPLE')"
   ]
  },
  {
   "cell_type": "code",
   "execution_count": null,
   "id": "10d6dc41",
   "metadata": {},
   "outputs": [],
   "source": []
  }
 ],
 "metadata": {
  "kernelspec": {
   "display_name": "Python 3 (ipykernel)",
   "language": "python",
   "name": "python3"
  },
  "language_info": {
   "codemirror_mode": {
    "name": "ipython",
    "version": 3
   },
   "file_extension": ".py",
   "mimetype": "text/x-python",
   "name": "python",
   "nbconvert_exporter": "python",
   "pygments_lexer": "ipython3",
   "version": "3.11.5"
  }
 },
 "nbformat": 4,
 "nbformat_minor": 5
}
